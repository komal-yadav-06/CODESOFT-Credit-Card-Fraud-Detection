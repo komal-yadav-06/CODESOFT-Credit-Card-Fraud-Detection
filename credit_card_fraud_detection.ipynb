{
 "cells": [
  {
   "cell_type": "markdown",
   "id": "8cce7480",
   "metadata": {},
   "source": [
    "# 🛡️ Credit Card Fraud Detection using Machine Learning"
   ]
  },
  {
   "cell_type": "code",
   "execution_count": null,
   "id": "18dba1f9",
   "metadata": {},
   "outputs": [],
   "source": [
    "# 📦 1. Import Libraries\n",
    "import pandas as pd\n",
    "import numpy as np\n",
    "import matplotlib.pyplot as plt\n",
    "import seaborn as sns\n",
    "\n",
    "from sklearn.model_selection import train_test_split\n",
    "from sklearn.preprocessing import StandardScaler\n",
    "from sklearn.linear_model import LogisticRegression\n",
    "from sklearn.ensemble import RandomForestClassifier\n",
    "from sklearn.metrics import classification_report, confusion_matrix, roc_auc_score\n",
    "\n",
    "from imblearn.over_sampling import SMOTE\n"
   ]
  },
  {
   "cell_type": "code",
   "execution_count": null,
   "id": "9620f303",
   "metadata": {},
   "outputs": [],
   "source": [
    "# 📂 2. Load the Dataset\n",
    "df = pd.read_csv(\"creditcard.csv\")  # Ensure the dataset is in your working directory\n",
    "df.head()"
   ]
  },
  {
   "cell_type": "code",
   "execution_count": null,
   "id": "84efcd2f",
   "metadata": {},
   "outputs": [],
   "source": [
    "# 📊 3. Dataset Exploration\n",
    "print(\"Dataset shape:\", df.shape)\n",
    "print(\"Missing values:\n",
    "\", df.isnull().sum())\n",
    "print(\"Class distribution:\n",
    "\", df['Class'].value_counts())\n",
    "\n",
    "# Countplot for imbalance\n",
    "sns.countplot(x='Class', data=df)\n",
    "plt.title(\"Class Distribution (0 = Genuine, 1 = Fraud)\")\n",
    "plt.show()"
   ]
  },
  {
   "cell_type": "code",
   "execution_count": null,
   "id": "d588c383",
   "metadata": {},
   "outputs": [],
   "source": [
    "# ⚙️ 4. Preprocessing & Normalization\n",
    "scaler = StandardScaler()\n",
    "df['Amount'] = scaler.fit_transform(df[['Amount']])\n",
    "df.drop('Time', axis=1, inplace=True)\n",
    "df.head()"
   ]
  },
  {
   "cell_type": "code",
   "execution_count": null,
   "id": "018ca4c8",
   "metadata": {},
   "outputs": [],
   "source": [
    "# ✂️ 5. Train-Test Split\n",
    "X = df.drop('Class', axis=1)\n",
    "y = df['Class']\n",
    "\n",
    "X_train, X_test, y_train, y_test = train_test_split(X, y, test_size=0.2, random_state=42, stratify=y)"
   ]
  },
  {
   "cell_type": "code",
   "execution_count": null,
   "id": "3e7e91c9",
   "metadata": {},
   "outputs": [],
   "source": [
    "# ⚖️ 6. Handling Class Imbalance using SMOTE\n",
    "sm = SMOTE(random_state=42)\n",
    "X_resampled, y_resampled = sm.fit_resample(X_train, y_train)\n",
    "\n",
    "print(\"Before SMOTE:\", y_train.value_counts())\n",
    "print(\"After SMOTE:\", y_resampled.value_counts())"
   ]
  },
  {
   "cell_type": "code",
   "execution_count": null,
   "id": "5c336026",
   "metadata": {},
   "outputs": [],
   "source": [
    "# 🧠 7. Model Training - Logistic Regression\n",
    "lr = LogisticRegression(max_iter=1000)\n",
    "lr.fit(X_resampled, y_resampled)\n",
    "y_pred_lr = lr.predict(X_test)\n",
    "\n",
    "print(\"Logistic Regression Results:\")\n",
    "print(classification_report(y_test, y_pred_lr))"
   ]
  },
  {
   "cell_type": "code",
   "execution_count": null,
   "id": "3466f0e9",
   "metadata": {},
   "outputs": [],
   "source": [
    "# 🌲 8. Model Training - Random Forest Classifier\n",
    "rf = RandomForestClassifier(n_estimators=100, random_state=42)\n",
    "rf.fit(X_resampled, y_resampled)\n",
    "y_pred_rf = rf.predict(X_test)\n",
    "\n",
    "print(\"Random Forest Results:\")\n",
    "print(classification_report(y_test, y_pred_rf))"
   ]
  },
  {
   "cell_type": "code",
   "execution_count": null,
   "id": "bc41e2d5",
   "metadata": {},
   "outputs": [],
   "source": [
    "# 📈 9. Confusion Matrix\n",
    "cm = confusion_matrix(y_test, y_pred_rf)\n",
    "sns.heatmap(cm, annot=True, fmt='d', cmap='Blues', xticklabels=[\"Genuine\", \"Fraud\"], yticklabels=[\"Genuine\", \"Fraud\"])\n",
    "plt.xlabel(\"Predicted\")\n",
    "plt.ylabel(\"Actual\")\n",
    "plt.title(\"Confusion Matrix - Random Forest\")\n",
    "plt.show()"
   ]
  },
  {
   "cell_type": "code",
   "execution_count": null,
   "id": "eaee1540",
   "metadata": {},
   "outputs": [],
   "source": [
    "# 🔍 10. ROC AUC Score\n",
    "print(\"ROC AUC Score (Random Forest):\", roc_auc_score(y_test, rf.predict_proba(X_test)[:, 1]))"
   ]
  }
 ],
 "metadata": {},
 "nbformat": 4,
 "nbformat_minor": 5
}